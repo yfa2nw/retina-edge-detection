{
 "cells": [
  {
   "cell_type": "markdown",
   "metadata": {},
   "source": [
    "# Retina Model\n",
    "\n",
    "This project is to use relatively easy methods and understandable math to simulate different retinal ganglion cell activities under various receptive field stimulations. Before we get started, here's a brief review of the pathway of light hitting the rods/cones all the way to retinal ganglion cells.\n",
    "\n",
    "1. Light (photons)\n",
    "2. Rods and Cones (R/C)\n",
    "    - (optional) Horizontal Cells (HC)\n",
    "3. Bipolar Cells (BPC)\n",
    "    - (optional) Amacrine Cells (AC)\n",
    "4. Retinal Ganglion Cells (RGC)\n",
    "\n",
    "As mentioned on the list above, between R/C and BPC, surround R/Cs connect to Horizontal Cells (HC), and between BPC and RGC, some BPCs connect to Amacrine Cells (AC). This model will not be talking about AC roles in RGC activity (e.g., starburst AC's roles in directional specificity). Rather, this model aspires to explain responses of RGCs to static light sources.\n",
    "\n",
    "## Parameters\n",
    "\n",
    "We have a lot of parameters to cover, but the gist is:\n",
    "\n",
    "- The input is either -1 or +1\n",
    "    - -1 describes the lack of light activating R/Cs\n",
    "    - +1 describes the presence of light activating R/Cs\n",
    "\n",
    "- The output will be a gradient between -1 to +1\n",
    "    - -1 describes maximal hyperpolarization\n",
    "    - +1 describes maximal depolarization\n",
    "\n",
    "Since cells connect to each other, synapse (node) calculations are required as well:\n",
    "\n",
    "- When a synapse is formed, the values add up together, forming a new input to the next cell (node).\n",
    "- When multiple synapses are connected to the same cell, the input cells are assigned a weight that is the inverse of the number of input cells connected to the new cell.\n",
    "\n",
    "We assume that at each cell, the cell is excitatory (glutamate releasing) and can pass down the signal. However, there are some exceptions. Not all glutamate-receiving cells are excited - it depends on the receptors. So, we need to add a multiplier to reflect if the signal is inversed or not:\n",
    "\n",
    "- If the cell is an inhibitory cell (releases GABA, such as HCs), they will have an extra multiplier of -1.\n",
    "- BPCs also have a multiplier because of different glutamate receptor distribution.\n",
    "    - ON BPC will have a multiplier of -1 because they have mGluRs.\n",
    "    - OFF BPC will have a multiplier of +1 because they have iGluRs.\n",
    "\n",
    "Also, we will not be dealing with color vision. That requires a matrix. So, we will refer R/Cs as rods."
   ]
  },
  {
   "cell_type": "markdown",
   "metadata": {},
   "source": [
    "## Setting Up the Simulation\n",
    "\n",
    "### Establishing the Foundations\n",
    "\n",
    "Let's set up the basic unit of how many rods or cones are involved. The essence of this simulation is that the receptive field is divided into 2 areas - the center and surround areas. For this simulation, the surround areas will be further divided into 8 subareas - N, NE, E, SE, S, SW, W, and NW (Yes, the actual direction they represent is not an accurate reflection to our visual field, but it works).\n",
    "\n",
    "Each area will hold the same number of rods."
   ]
  },
  {
   "cell_type": "code",
   "execution_count": 2,
   "metadata": {},
   "outputs": [
    {
     "data": {
      "text/plain": [
       "45"
      ]
     },
     "execution_count": 2,
     "metadata": {},
     "output_type": "execute_result"
    }
   ],
   "source": [
    "unit_rod = 5  # each area will have 5 rods\n",
    "surr_area = 8  # N, NE, E, ...\n",
    "\n",
    "num_area = surr_area + 1  # calculating the total number of areas\n",
    "\n",
    "total_rod = unit_rod * num_area\n",
    "total_rod"
   ]
  },
  {
   "cell_type": "markdown",
   "metadata": {},
   "source": [
    "### Calculating the Weights\n",
    "\n",
    "As mentioned, the weights will be the inverse of the number of rods connecting to their respective cells. Here, we make an assumption for simplicity. We will assume that each rod contributes equally to the synapse, thus holding the same amount of weight. We will also assume that for each surrounding area, there is an HC that summarizes that area's rod activity. Thus, the more surrounding areas there are, the less weight each HC holds to influence the center cells. Also, we will assume that each HC will connect to all the center rods. As a result, when we are calculating how much activity there is to be passed down to the BPC, we need to finish the HC calculations before passing it down to BPCs.\n",
    "\n",
    "We will also add the multiplier function here."
   ]
  },
  {
   "cell_type": "code",
   "execution_count": 3,
   "metadata": {},
   "outputs": [
    {
     "name": "stdout",
     "output_type": "stream",
     "text": [
      "0.2 -0.125\n"
     ]
    }
   ],
   "source": [
    "flip = -1  # For HCs and ON BPCs due to their inhibitory and mGluR distributions respectively\n",
    "\n",
    "weight_rod = 1 / unit_rod\n",
    "weight_HC = flip * 1 / surr_area\n",
    "\n",
    "print(weight_rod, weight_HC)"
   ]
  },
  {
   "cell_type": "markdown",
   "metadata": {},
   "source": [
    "### Inputs\n",
    "\n",
    "Since we have the total number of rods designated to `total_rod`, we need to assign a number (-1 or +1) to each rod. If we have 45 rods, we need 45 inputs. We will be using an array to do this.\n",
    "\n",
    "- The first `unit_rod` of inputs will correspond to area N\n",
    "- The second will be area NE\n",
    "- The third will be area E\n",
    "- and so on and so forth (SE, S, SW, W, NW), with center being the last `unit_rod` of inputs.\n",
    "\n",
    "We should also check if our input array is valid - did we add 1 too many inputs or 1 too few?"
   ]
  },
  {
   "cell_type": "code",
   "execution_count": 10,
   "metadata": {},
   "outputs": [
    {
     "name": "stdout",
     "output_type": "stream",
     "text": [
      "This input is valid!\n"
     ]
    }
   ],
   "source": [
    "### PUT THE INPUT ARRAY HERE\n",
    "### depending on the unit_rod variable, we may need more or less elements in the array\n",
    "### depending on the surr_area variable, we may need more or less rows in the array\n",
    "input = [\n",
    "    -1, -1, -1, -1, -1, #N\n",
    "    -1, -1, -1, -1, -1, #NE\n",
    "    -1, -1, -1, -1, -1, #E\n",
    "    -1, -1, -1, -1, -1, #SE\n",
    "    -1, -1, -1, -1, -1, #S\n",
    "    -1, -1, -1, -1, -1, #SW\n",
    "    -1, -1, -1, -1, -1, #W\n",
    "    -1, -1, -1, -1, -1, #NW\n",
    "    1, 1, 1, 1, 1 #Center \n",
    "]\n",
    "\n",
    "# Checking if the input is valid\n",
    "if len(input) == total_rod:\n",
    "    print(\"This input is valid!\")\n",
    "elif len(input) > total_rod:\n",
    "    print(\"There might be \" + str(len(input) - total_rod) + \" extra rod(s) in the input?\")\n",
    "else:\n",
    "    print(\"There might be \" + str(total_rod - len(input)) + \" missing rod(s) in the input?\")"
   ]
  },
  {
   "cell_type": "markdown",
   "metadata": {},
   "source": [
    "With the input being valid, we need to associate parts of the array to each area. For example, the first `unit_rod` elements will be assigned to the first area, so on and so forth. However, we also need to take into account that we might want to change the number of surrounding areas. In this case, we will make a function that specifically does the chunking, and we iteratively chunk the array into smaller arrays, assigning them numbers."
   ]
  },
  {
   "cell_type": "code",
   "execution_count": 18,
   "metadata": {},
   "outputs": [
    {
     "name": "stdout",
     "output_type": "stream",
     "text": [
      "area_1 = [-1, -1, -1, -1, -1]\n",
      "area_2 = [-1, -1, -1, -1, -1]\n",
      "area_3 = [-1, -1, -1, -1, -1]\n",
      "area_4 = [-1, -1, -1, -1, -1]\n",
      "area_5 = [-1, -1, -1, -1, -1]\n",
      "area_6 = [-1, -1, -1, -1, -1]\n",
      "area_7 = [-1, -1, -1, -1, -1]\n",
      "area_8 = [-1, -1, -1, -1, -1]\n",
      "area_center = [1, 1, 1, 1, 1]\n"
     ]
    }
   ],
   "source": [
    "# The function that chunks big arrays into smaller arrays\n",
    "# This function is quite general - it takes in the array we need to chunk and how many elements should be in per chunk.\n",
    "def chunk_array(arr, chunk_size=unit_rod):\n",
    "    return [arr[i:i + chunk_size] for i in range(0, len(arr), chunk_size)]\n",
    "\n",
    "# Split into chunks of per unit_rod\n",
    "area_input = chunk_array(input)\n",
    "\n",
    "# Assign names using a dictionary\n",
    "area_dict = {f\"area_{i+1}\": chunk for i, chunk in enumerate(area_input[:-1])}\n",
    "area_dict[\"area_center\"] = area_input[-1]  # Special name for the last area, which is the center inputs\n",
    "\n",
    "# Print the result\n",
    "for name, chunk in area_dict.items():\n",
    "    print(f\"{name} = {chunk}\")\n"
   ]
  },
  {
   "cell_type": "markdown",
   "metadata": {},
   "source": [
    "The printed chunks should have the same value as our inputs. Do double check the following values if errors are spotted.\n",
    "\n",
    "- `unit_rod`\n",
    "- `surr_area`\n",
    "- `input`\n",
    "\n",
    "If everything looks alright, we can start manipulating the parameters."
   ]
  },
  {
   "cell_type": "markdown",
   "metadata": {},
   "source": [
    "### Step 1 - R/C Manipulation\n",
    "\n",
    "Let's summarize the R/C inputs for each region.\n",
    "\n",
    "- For the surround area, each area's rods will report to the corresponding HC.\n",
    "- For the center area, the rods will be manipulated by the surround area HCs, then report to the BPC.\n",
    "\n",
    "However, before we do all that, we need to flip everything because R/C hyperpolarize in the presence of light. In other words, an input of +1 will yield a -1 result in R/Cs. Likewise, an input of -1 will yield a +1 result in R/Cs."
   ]
  },
  {
   "cell_type": "code",
   "execution_count": 33,
   "metadata": {},
   "outputs": [
    {
     "data": {
      "text/plain": [
       "{'area_1_rod': [0.2, 0.2, 0.2, 0.2, 0.2],\n",
       " 'area_2_rod': [0.2, 0.2, 0.2, 0.2, 0.2],\n",
       " 'area_3_rod': [0.2, 0.2, 0.2, 0.2, 0.2],\n",
       " 'area_4_rod': [0.2, 0.2, 0.2, 0.2, 0.2],\n",
       " 'area_5_rod': [0.2, 0.2, 0.2, 0.2, 0.2],\n",
       " 'area_6_rod': [0.2, 0.2, 0.2, 0.2, 0.2],\n",
       " 'area_7_rod': [0.2, 0.2, 0.2, 0.2, 0.2],\n",
       " 'area_8_rod': [0.2, 0.2, 0.2, 0.2, 0.2],\n",
       " 'area_center_rod': [-0.2, -0.2, -0.2, -0.2, -0.2]}"
      ]
     },
     "execution_count": 33,
     "metadata": {},
     "output_type": "execute_result"
    }
   ],
   "source": [
    "# Apply transformation of R/C (-1) and weight of R/C\n",
    "area_rod_dict = {key + \"_rod\": [x * flip * weight_rod for x in values] for key, values in area_dict.items()}\n",
    "\n",
    "area_rod_dict"
   ]
  },
  {
   "cell_type": "markdown",
   "metadata": {},
   "source": [
    "### Step 2 - HC Manipulation\n",
    "\n",
    "Now, here comes the trickier part. We need to sum each surrounding area to form a new dictionary that contains the cell activities of each HC. For example, the HC value for `area_1` will be the sum of the values in the array `area_1_rod`. On top of that, we need to apply the weight of each HC so that we can correctly manipulate each rod in the center area.\n",
    "\n",
    "Remember, each HC influences every rod in the center area. So each value within `area_center_rod` needs to be manipulated."
   ]
  },
  {
   "cell_type": "code",
   "execution_count": 75,
   "metadata": {},
   "outputs": [
    {
     "data": {
      "text/plain": [
       "{'area_1_HC': -0.125,\n",
       " 'area_2_HC': -0.125,\n",
       " 'area_3_HC': -0.125,\n",
       " 'area_4_HC': -0.125,\n",
       " 'area_5_HC': -0.125,\n",
       " 'area_6_HC': -0.125,\n",
       " 'area_7_HC': -0.125,\n",
       " 'area_8_HC': -0.125,\n",
       " 'area_center_HC': 0.125}"
      ]
     },
     "execution_count": 75,
     "metadata": {},
     "output_type": "execute_result"
    }
   ],
   "source": [
    "# Apply transformation of HC and weight of HC\n",
    "# Add up to generalize HC influence on each rod in the center\n",
    "area_HC_dict = {key.replace(\"_rod\", \"_HC\"): sum(values) * weight_HC for key, values in area_rod_dict.items()}\n",
    "area_HC_sum = sum(list(area_HC_dict.values())[:-1])\n",
    "\n",
    "area_HC_dict  # ignore area_center_HC - that is not relevant at all"
   ]
  },
  {
   "cell_type": "markdown",
   "metadata": {},
   "source": [
    "With the HC influence calculated, we can apply the summated HC influence to each center rod. So, we will call `area_center_rod` and apply the summation onto it. Here, since we already have an `area_center_rod` of `[-1, -1, -1, -1, -1]`, adding another (-1) to the equation will yield `[-2, -2, -2, -2, -2]`. This makes calculations slightly more complicated than we want, so we'll normalize it.\n",
    "\n",
    "However, there are multiple ways to normalize this. The easy way is to assume linearity, and just apply a `0.5` multiplier to linearly scale it down back to a range of -1 to +1. Alternatively, we can also use `tanh()`, which gives us a non-linear gradient. We will use both just to see.\n",
    "\n",
    "To use `tanh()`, we will be importing some packages. So, let's import it and test it out."
   ]
  },
  {
   "cell_type": "code",
   "execution_count": 77,
   "metadata": {},
   "outputs": [
    {
     "name": "stdout",
     "output_type": "stream",
     "text": [
      "-1.0 -1.0\n"
     ]
    }
   ],
   "source": [
    "# Import math\n",
    "import math\n",
    "coeff = 1.5  # testing out the coefficient\n",
    "\n",
    "# Call area_center_rod and apply transformation\n",
    "area_center_sum = sum((x * flip + area_HC_sum) * weight_rod for x in area_dict[\"area_center\"])\n",
    "\n",
    "# Normalize the results\n",
    "area_center_normalized_linear = area_center_sum * 0.5\n",
    "area_center_normalized_nonlinear = round(math.tanh(coeff * area_center_sum), 2)\n",
    "\n",
    "print(area_center_normalized_linear, area_center_normalized_nonlinear)"
   ]
  },
  {
   "cell_type": "markdown",
   "metadata": {},
   "source": [
    "### Step 3 - RGC Expression\n",
    "\n",
    "The value we got from the last code block describes the summarized activity of the center R/Cs. Since surround cells synapse with center cells, we only need to see how HCs impact center R/Cs. So, we can take the value and go through BPCs and ultimately RGCs.\n",
    "\n",
    "The only thing about BPCs is that there are 2 types of BPCs - ON BPCs and OFF BPCs. ON BPCs have a multiplier of (-1) while OFF BPCs don't. We will be exploring both options as well."
   ]
  },
  {
   "cell_type": "code",
   "execution_count": 78,
   "metadata": {},
   "outputs": [
    {
     "name": "stdout",
     "output_type": "stream",
     "text": [
      "1.0 -1.0 1.0 -1.0\n"
     ]
    }
   ],
   "source": [
    "ON_RGC_linear = flip * area_center_normalized_linear\n",
    "OFF_RGC_linear = area_center_normalized_linear\n",
    "\n",
    "ON_RGC_nonlinear = flip * area_center_normalized_nonlinear\n",
    "OFF_RGC_nonlinear = area_center_normalized_nonlinear\n",
    "\n",
    "print(ON_RGC_linear, OFF_RGC_linear, ON_RGC_nonlinear, OFF_RGC_nonlinear)"
   ]
  },
  {
   "cell_type": "markdown",
   "metadata": {},
   "source": [
    "## Function Retina\n",
    "\n",
    "In order to make this process able to run through multiple iterations and generate a .csv file for graphing purposes, we will essentially transform the steps above into a single function that takes in the inputs:\n",
    "\n",
    "- The inputs for R/Cs\n",
    "- The dimensions for the inputs\n",
    "\n",
    "It will shoot out the outputs:\n",
    "\n",
    "- `ON_RGC_linear`\n",
    "- `OFF_RGC_linear`\n",
    "- `ON_RGC_nonlinear`\n",
    "- `OFF_RGC_nonlinear`"
   ]
  },
  {
   "cell_type": "code",
   "execution_count": 100,
   "metadata": {},
   "outputs": [],
   "source": [
    "import math\n",
    "\n",
    "def chunk_array(arr, chunk_size):\n",
    "    \"\"\"Splits an array into equal-sized chunks.\"\"\"\n",
    "    return [arr[i:i + chunk_size] for i in range(0, len(arr), chunk_size)]\n",
    "\n",
    "def retina(input, unit_rod=5, surr_area=8):\n",
    "    num_area = surr_area + 1  # Total number of areas\n",
    "    total_rod = unit_rod * num_area\n",
    "    coeff = 1.5\n",
    "\n",
    "    if len(input) != total_rod:\n",
    "        diff = len(input) - total_rod\n",
    "        return f\"There might be {abs(diff)} {'extra' if diff > 0 else 'missing'} rod(s) in the input?\"\n",
    "\n",
    "    # Split input into chunks\n",
    "    area_input = chunk_array(input, unit_rod)\n",
    "\n",
    "    # Assign area names\n",
    "    area_dict = {f\"area_{i+1}\": chunk for i, chunk in enumerate(area_input[:-1])}\n",
    "    area_dict[\"area_center\"] = area_input[-1]\n",
    "\n",
    "    # Apply transformations\n",
    "    area_rod_dict = {key + \"_rod\": [x * flip * weight_rod for x in values] for key, values in area_dict.items()}\n",
    "    area_HC_dict = {key.replace(\"_rod\", \"_HC\"): sum(values) * weight_HC for key, values in area_rod_dict.items()}\n",
    "    area_HC_sum = sum(v for k, v in list(area_HC_dict.items())[:-1])  # Sum all but last\n",
    "\n",
    "    # Compute center sum with lateral inhibition\n",
    "    area_center_sum = sum((x * flip + area_HC_sum) * weight_rod for x in area_dict[\"area_center\"])\n",
    "\n",
    "    # Normalize outputs\n",
    "    area_center_linear = area_center_sum * 0.5\n",
    "    area_center_nonlinear = round(math.tanh(coeff * area_center_sum), 2)\n",
    "\n",
    "    # ON and OFF Retinal Ganglion Cell (RGC) outputs\n",
    "    ON_RGC_linear = round(flip * area_center_linear, 2)\n",
    "    OFF_RGC_linear = round(area_center_linear, 2)\n",
    "\n",
    "    ON_RGC_nonlinear = flip * area_center_nonlinear\n",
    "    OFF_RGC_nonlinear = area_center_nonlinear\n",
    "\n",
    "    result_array = [ON_RGC_linear, OFF_RGC_linear, ON_RGC_nonlinear, OFF_RGC_nonlinear]\n",
    "\n",
    "    return result_array\n"
   ]
  },
  {
   "cell_type": "markdown",
   "metadata": {},
   "source": [
    "With the function realized, we can start messing with inputs. Let's first check if this function can run with our example input. If it can, let's simulate the 4 basic scenarios - center response, surround response, both response, and neither response. For those 4 scenarios, the results are as follows.\n",
    "\n",
    "**1. Center Response**\n",
    "\n",
    "In this case, the center is lit while the surround is dark.\n",
    "- On-center RGCs should have +1\n",
    "- Off-center RGCs should have -1\n",
    "\n",
    "**2. Surround Response**\n",
    "\n",
    "The surround is lit while the center is dark.\n",
    "- On-center RGCs should have -1\n",
    "- Off-center RGCs should have +1\n",
    "\n",
    "**3. Both Response**\n",
    "\n",
    "Both the center and surround are lit.\n",
    "- On-center RGCs should have 0\n",
    "- Off-center RGCs should have 0\n",
    "\n",
    "**4. Neither Response**\n",
    "\n",
    "Neither the center nor surround is lit.\n",
    "- On-center RGCs should have 0\n",
    "- Off-center RGCs should have 0\n"
   ]
  },
  {
   "cell_type": "code",
   "execution_count": 102,
   "metadata": {},
   "outputs": [
    {
     "name": "stdout",
     "output_type": "stream",
     "text": [
      "[1.0, -1.0, 1.0, -1.0] [-1.0, 1.0, -1.0, 1.0] [-0.0, 0.0, -0.0, 0.0] [-0.0, 0.0, -0.0, 0.0]\n"
     ]
    }
   ],
   "source": [
    "center_response = [\n",
    "    -1, -1, -1, -1, -1, #N\n",
    "    -1, -1, -1, -1, -1, #NE\n",
    "    -1, -1, -1, -1, -1, #E\n",
    "    -1, -1, -1, -1, -1, #SE\n",
    "    -1, -1, -1, -1, -1, #S\n",
    "    -1, -1, -1, -1, -1, #SW\n",
    "    -1, -1, -1, -1, -1, #W\n",
    "    -1, -1, -1, -1, -1, #NW\n",
    "    1, 1, 1, 1, 1 #Center \n",
    "]\n",
    "\n",
    "surround_response = [\n",
    "    1, 1, 1, 1, 1, #N\n",
    "    1, 1, 1, 1, 1, #NE\n",
    "    1, 1, 1, 1, 1, #E\n",
    "    1, 1, 1, 1, 1, #SE\n",
    "    1, 1, 1, 1, 1, #S\n",
    "    1, 1, 1, 1, 1, #SW\n",
    "    1, 1, 1, 1, 1, #W\n",
    "    1, 1, 1, 1, 1, #NW\n",
    "    -1, -1, -1, -1, -1 #Center \n",
    "]\n",
    "\n",
    "both_response = [\n",
    "    1, 1, 1, 1, 1, #N\n",
    "    1, 1, 1, 1, 1, #NE\n",
    "    1, 1, 1, 1, 1, #E\n",
    "    1, 1, 1, 1, 1, #SE\n",
    "    1, 1, 1, 1, 1, #S\n",
    "    1, 1, 1, 1, 1, #SW\n",
    "    1, 1, 1, 1, 1, #W\n",
    "    1, 1, 1, 1, 1, #NW\n",
    "    1, 1, 1, 1, 1 #Center \n",
    "]\n",
    "\n",
    "neither_response = [\n",
    "    -1, -1, -1, -1, -1, #N\n",
    "    -1, -1, -1, -1, -1, #NE\n",
    "    -1, -1, -1, -1, -1, #E\n",
    "    -1, -1, -1, -1, -1, #SE\n",
    "    -1, -1, -1, -1, -1, #S\n",
    "    -1, -1, -1, -1, -1, #SW\n",
    "    -1, -1, -1, -1, -1, #W\n",
    "    -1, -1, -1, -1, -1, #NW\n",
    "    -1, -1, -1, -1, -1 #Center \n",
    "]\n",
    "\n",
    "print(retina(center_response),\n",
    "    retina(surround_response),\n",
    "    retina(both_response),\n",
    "    retina(neither_response))"
   ]
  },
  {
   "cell_type": "markdown",
   "metadata": {},
   "source": [
    "## Collecting and Analyzing Data\n",
    "\n",
    "With the function complete, we can start altering our inputs and run through the program to visualize data. For example, this section will focus on altering the center response in the following way:\n",
    "\n",
    "- Each iteration, 1 more surround rod switches from -1 to +1.\n",
    "\n",
    "This simulates the surround getting more and more light. We will observe how that affects the response from on- and off-center RGCs.\n",
    "\n",
    "### Obtaining a .csv File\n",
    "\n",
    "Before the data is being collected, we need a `.csv` file to store the data."
   ]
  },
  {
   "cell_type": "code",
   "execution_count": null,
   "metadata": {},
   "outputs": [],
   "source": [
    "import csv\n",
    "\n",
    "# Define the CSV filename\n",
    "csv_filename = \"retina_results.csv\"\n",
    "\n",
    "# Open the CSV file in append mode ('a') and write results\n",
    "with open(csv_filename, mode='a', newline='') as file:\n",
    "    writer = csv.writer(file)\n",
    "    writer.writerow([\"ON_RGC_linear\", \"OFF_RGC_linear\", \"ON_RGC_nonlinear\", \"OFF_RGC_nonlinear\"])\n",
    "\n"
   ]
  },
  {
   "cell_type": "markdown",
   "metadata": {},
   "source": [
    "### Altering Inputs\n",
    "\n",
    "With the `.csv` file in place, we can start altering our inputs. Preferably, we can dynamically alter our inputs. The altering method we are using is to replace the -1 with +1 one by one. For example, `[-1, -1, -1, -1, -1]` becomes `[1, -1, -1, -1, -1]` then `[1, 1, -1, -1, -1]` then `[1, 1, 1, -1, -1]` then `[1, 1, 1, 1, -1]` and finally `[1, 1, 1, 1, 1]`."
   ]
  },
  {
   "cell_type": "code",
   "execution_count": 114,
   "metadata": {},
   "outputs": [
    {
     "name": "stdout",
     "output_type": "stream",
     "text": [
      "[-1, -1, -1, -1, -1, -1, -1, -1, -1, -1, -1, -1, -1, -1, -1, -1, -1, -1, -1, -1, -1, -1, -1, -1, -1, -1, -1, -1, -1, -1, -1, -1, -1, -1, -1, -1, -1, -1, -1, -1, 1, 1, 1, 1, 1]\n",
      "[1, -1, -1, -1, -1, -1, -1, -1, -1, -1, -1, -1, -1, -1, -1, -1, -1, -1, -1, -1, -1, -1, -1, -1, -1, -1, -1, -1, -1, -1, -1, -1, -1, -1, -1, -1, -1, -1, -1, -1, 1, 1, 1, 1, 1]\n",
      "[1, 1, -1, -1, -1, -1, -1, -1, -1, -1, -1, -1, -1, -1, -1, -1, -1, -1, -1, -1, -1, -1, -1, -1, -1, -1, -1, -1, -1, -1, -1, -1, -1, -1, -1, -1, -1, -1, -1, -1, 1, 1, 1, 1, 1]\n",
      "[1, 1, 1, -1, -1, -1, -1, -1, -1, -1, -1, -1, -1, -1, -1, -1, -1, -1, -1, -1, -1, -1, -1, -1, -1, -1, -1, -1, -1, -1, -1, -1, -1, -1, -1, -1, -1, -1, -1, -1, 1, 1, 1, 1, 1]\n",
      "[1, 1, 1, 1, -1, -1, -1, -1, -1, -1, -1, -1, -1, -1, -1, -1, -1, -1, -1, -1, -1, -1, -1, -1, -1, -1, -1, -1, -1, -1, -1, -1, -1, -1, -1, -1, -1, -1, -1, -1, 1, 1, 1, 1, 1]\n",
      "[1, 1, 1, 1, 1, -1, -1, -1, -1, -1, -1, -1, -1, -1, -1, -1, -1, -1, -1, -1, -1, -1, -1, -1, -1, -1, -1, -1, -1, -1, -1, -1, -1, -1, -1, -1, -1, -1, -1, -1, 1, 1, 1, 1, 1]\n",
      "[1, 1, 1, 1, 1, 1, -1, -1, -1, -1, -1, -1, -1, -1, -1, -1, -1, -1, -1, -1, -1, -1, -1, -1, -1, -1, -1, -1, -1, -1, -1, -1, -1, -1, -1, -1, -1, -1, -1, -1, 1, 1, 1, 1, 1]\n",
      "[1, 1, 1, 1, 1, 1, 1, -1, -1, -1, -1, -1, -1, -1, -1, -1, -1, -1, -1, -1, -1, -1, -1, -1, -1, -1, -1, -1, -1, -1, -1, -1, -1, -1, -1, -1, -1, -1, -1, -1, 1, 1, 1, 1, 1]\n",
      "[1, 1, 1, 1, 1, 1, 1, 1, -1, -1, -1, -1, -1, -1, -1, -1, -1, -1, -1, -1, -1, -1, -1, -1, -1, -1, -1, -1, -1, -1, -1, -1, -1, -1, -1, -1, -1, -1, -1, -1, 1, 1, 1, 1, 1]\n",
      "[1, 1, 1, 1, 1, 1, 1, 1, 1, -1, -1, -1, -1, -1, -1, -1, -1, -1, -1, -1, -1, -1, -1, -1, -1, -1, -1, -1, -1, -1, -1, -1, -1, -1, -1, -1, -1, -1, -1, -1, 1, 1, 1, 1, 1]\n",
      "[1, 1, 1, 1, 1, 1, 1, 1, 1, 1, -1, -1, -1, -1, -1, -1, -1, -1, -1, -1, -1, -1, -1, -1, -1, -1, -1, -1, -1, -1, -1, -1, -1, -1, -1, -1, -1, -1, -1, -1, 1, 1, 1, 1, 1]\n",
      "[1, 1, 1, 1, 1, 1, 1, 1, 1, 1, 1, -1, -1, -1, -1, -1, -1, -1, -1, -1, -1, -1, -1, -1, -1, -1, -1, -1, -1, -1, -1, -1, -1, -1, -1, -1, -1, -1, -1, -1, 1, 1, 1, 1, 1]\n",
      "[1, 1, 1, 1, 1, 1, 1, 1, 1, 1, 1, 1, -1, -1, -1, -1, -1, -1, -1, -1, -1, -1, -1, -1, -1, -1, -1, -1, -1, -1, -1, -1, -1, -1, -1, -1, -1, -1, -1, -1, 1, 1, 1, 1, 1]\n",
      "[1, 1, 1, 1, 1, 1, 1, 1, 1, 1, 1, 1, 1, -1, -1, -1, -1, -1, -1, -1, -1, -1, -1, -1, -1, -1, -1, -1, -1, -1, -1, -1, -1, -1, -1, -1, -1, -1, -1, -1, 1, 1, 1, 1, 1]\n",
      "[1, 1, 1, 1, 1, 1, 1, 1, 1, 1, 1, 1, 1, 1, -1, -1, -1, -1, -1, -1, -1, -1, -1, -1, -1, -1, -1, -1, -1, -1, -1, -1, -1, -1, -1, -1, -1, -1, -1, -1, 1, 1, 1, 1, 1]\n",
      "[1, 1, 1, 1, 1, 1, 1, 1, 1, 1, 1, 1, 1, 1, 1, -1, -1, -1, -1, -1, -1, -1, -1, -1, -1, -1, -1, -1, -1, -1, -1, -1, -1, -1, -1, -1, -1, -1, -1, -1, 1, 1, 1, 1, 1]\n",
      "[1, 1, 1, 1, 1, 1, 1, 1, 1, 1, 1, 1, 1, 1, 1, 1, -1, -1, -1, -1, -1, -1, -1, -1, -1, -1, -1, -1, -1, -1, -1, -1, -1, -1, -1, -1, -1, -1, -1, -1, 1, 1, 1, 1, 1]\n",
      "[1, 1, 1, 1, 1, 1, 1, 1, 1, 1, 1, 1, 1, 1, 1, 1, 1, -1, -1, -1, -1, -1, -1, -1, -1, -1, -1, -1, -1, -1, -1, -1, -1, -1, -1, -1, -1, -1, -1, -1, 1, 1, 1, 1, 1]\n",
      "[1, 1, 1, 1, 1, 1, 1, 1, 1, 1, 1, 1, 1, 1, 1, 1, 1, 1, -1, -1, -1, -1, -1, -1, -1, -1, -1, -1, -1, -1, -1, -1, -1, -1, -1, -1, -1, -1, -1, -1, 1, 1, 1, 1, 1]\n",
      "[1, 1, 1, 1, 1, 1, 1, 1, 1, 1, 1, 1, 1, 1, 1, 1, 1, 1, 1, -1, -1, -1, -1, -1, -1, -1, -1, -1, -1, -1, -1, -1, -1, -1, -1, -1, -1, -1, -1, -1, 1, 1, 1, 1, 1]\n",
      "[1, 1, 1, 1, 1, 1, 1, 1, 1, 1, 1, 1, 1, 1, 1, 1, 1, 1, 1, 1, -1, -1, -1, -1, -1, -1, -1, -1, -1, -1, -1, -1, -1, -1, -1, -1, -1, -1, -1, -1, 1, 1, 1, 1, 1]\n",
      "[1, 1, 1, 1, 1, 1, 1, 1, 1, 1, 1, 1, 1, 1, 1, 1, 1, 1, 1, 1, 1, -1, -1, -1, -1, -1, -1, -1, -1, -1, -1, -1, -1, -1, -1, -1, -1, -1, -1, -1, 1, 1, 1, 1, 1]\n",
      "[1, 1, 1, 1, 1, 1, 1, 1, 1, 1, 1, 1, 1, 1, 1, 1, 1, 1, 1, 1, 1, 1, -1, -1, -1, -1, -1, -1, -1, -1, -1, -1, -1, -1, -1, -1, -1, -1, -1, -1, 1, 1, 1, 1, 1]\n",
      "[1, 1, 1, 1, 1, 1, 1, 1, 1, 1, 1, 1, 1, 1, 1, 1, 1, 1, 1, 1, 1, 1, 1, -1, -1, -1, -1, -1, -1, -1, -1, -1, -1, -1, -1, -1, -1, -1, -1, -1, 1, 1, 1, 1, 1]\n",
      "[1, 1, 1, 1, 1, 1, 1, 1, 1, 1, 1, 1, 1, 1, 1, 1, 1, 1, 1, 1, 1, 1, 1, 1, -1, -1, -1, -1, -1, -1, -1, -1, -1, -1, -1, -1, -1, -1, -1, -1, 1, 1, 1, 1, 1]\n",
      "[1, 1, 1, 1, 1, 1, 1, 1, 1, 1, 1, 1, 1, 1, 1, 1, 1, 1, 1, 1, 1, 1, 1, 1, 1, -1, -1, -1, -1, -1, -1, -1, -1, -1, -1, -1, -1, -1, -1, -1, 1, 1, 1, 1, 1]\n",
      "[1, 1, 1, 1, 1, 1, 1, 1, 1, 1, 1, 1, 1, 1, 1, 1, 1, 1, 1, 1, 1, 1, 1, 1, 1, 1, -1, -1, -1, -1, -1, -1, -1, -1, -1, -1, -1, -1, -1, -1, 1, 1, 1, 1, 1]\n",
      "[1, 1, 1, 1, 1, 1, 1, 1, 1, 1, 1, 1, 1, 1, 1, 1, 1, 1, 1, 1, 1, 1, 1, 1, 1, 1, 1, -1, -1, -1, -1, -1, -1, -1, -1, -1, -1, -1, -1, -1, 1, 1, 1, 1, 1]\n",
      "[1, 1, 1, 1, 1, 1, 1, 1, 1, 1, 1, 1, 1, 1, 1, 1, 1, 1, 1, 1, 1, 1, 1, 1, 1, 1, 1, 1, -1, -1, -1, -1, -1, -1, -1, -1, -1, -1, -1, -1, 1, 1, 1, 1, 1]\n",
      "[1, 1, 1, 1, 1, 1, 1, 1, 1, 1, 1, 1, 1, 1, 1, 1, 1, 1, 1, 1, 1, 1, 1, 1, 1, 1, 1, 1, 1, -1, -1, -1, -1, -1, -1, -1, -1, -1, -1, -1, 1, 1, 1, 1, 1]\n",
      "[1, 1, 1, 1, 1, 1, 1, 1, 1, 1, 1, 1, 1, 1, 1, 1, 1, 1, 1, 1, 1, 1, 1, 1, 1, 1, 1, 1, 1, 1, -1, -1, -1, -1, -1, -1, -1, -1, -1, -1, 1, 1, 1, 1, 1]\n",
      "[1, 1, 1, 1, 1, 1, 1, 1, 1, 1, 1, 1, 1, 1, 1, 1, 1, 1, 1, 1, 1, 1, 1, 1, 1, 1, 1, 1, 1, 1, 1, -1, -1, -1, -1, -1, -1, -1, -1, -1, 1, 1, 1, 1, 1]\n",
      "[1, 1, 1, 1, 1, 1, 1, 1, 1, 1, 1, 1, 1, 1, 1, 1, 1, 1, 1, 1, 1, 1, 1, 1, 1, 1, 1, 1, 1, 1, 1, 1, -1, -1, -1, -1, -1, -1, -1, -1, 1, 1, 1, 1, 1]\n",
      "[1, 1, 1, 1, 1, 1, 1, 1, 1, 1, 1, 1, 1, 1, 1, 1, 1, 1, 1, 1, 1, 1, 1, 1, 1, 1, 1, 1, 1, 1, 1, 1, 1, -1, -1, -1, -1, -1, -1, -1, 1, 1, 1, 1, 1]\n",
      "[1, 1, 1, 1, 1, 1, 1, 1, 1, 1, 1, 1, 1, 1, 1, 1, 1, 1, 1, 1, 1, 1, 1, 1, 1, 1, 1, 1, 1, 1, 1, 1, 1, 1, -1, -1, -1, -1, -1, -1, 1, 1, 1, 1, 1]\n",
      "[1, 1, 1, 1, 1, 1, 1, 1, 1, 1, 1, 1, 1, 1, 1, 1, 1, 1, 1, 1, 1, 1, 1, 1, 1, 1, 1, 1, 1, 1, 1, 1, 1, 1, 1, -1, -1, -1, -1, -1, 1, 1, 1, 1, 1]\n",
      "[1, 1, 1, 1, 1, 1, 1, 1, 1, 1, 1, 1, 1, 1, 1, 1, 1, 1, 1, 1, 1, 1, 1, 1, 1, 1, 1, 1, 1, 1, 1, 1, 1, 1, 1, 1, -1, -1, -1, -1, 1, 1, 1, 1, 1]\n",
      "[1, 1, 1, 1, 1, 1, 1, 1, 1, 1, 1, 1, 1, 1, 1, 1, 1, 1, 1, 1, 1, 1, 1, 1, 1, 1, 1, 1, 1, 1, 1, 1, 1, 1, 1, 1, 1, -1, -1, -1, 1, 1, 1, 1, 1]\n",
      "[1, 1, 1, 1, 1, 1, 1, 1, 1, 1, 1, 1, 1, 1, 1, 1, 1, 1, 1, 1, 1, 1, 1, 1, 1, 1, 1, 1, 1, 1, 1, 1, 1, 1, 1, 1, 1, 1, -1, -1, 1, 1, 1, 1, 1]\n",
      "[1, 1, 1, 1, 1, 1, 1, 1, 1, 1, 1, 1, 1, 1, 1, 1, 1, 1, 1, 1, 1, 1, 1, 1, 1, 1, 1, 1, 1, 1, 1, 1, 1, 1, 1, 1, 1, 1, 1, -1, 1, 1, 1, 1, 1]\n",
      "[1, 1, 1, 1, 1, 1, 1, 1, 1, 1, 1, 1, 1, 1, 1, 1, 1, 1, 1, 1, 1, 1, 1, 1, 1, 1, 1, 1, 1, 1, 1, 1, 1, 1, 1, 1, 1, 1, 1, 1, 1, 1, 1, 1, 1]\n"
     ]
    }
   ],
   "source": [
    "def generate_array(size=unit_rod*surr_area, unit_rod=5, fill_value=-1):\n",
    "    # Generates a list of lists with an increasing number of 1s per row, ensuring the last `unit_rod` elements are always 1.\n",
    "    return [[1] * i + [fill_value] * (size - i) + [1] * unit_rod for i in range(size + 1)]\n",
    "\n",
    "# Generate the array\n",
    "input_array = generate_array()\n",
    "\n",
    "# Print the result nicely\n",
    "for row in input_array:\n",
    "    print(row)  # There might be a lot of inputs depending on your parameters\n"
   ]
  },
  {
   "cell_type": "markdown",
   "metadata": {},
   "source": [
    "### Experiment\n",
    "\n",
    "Now comes the part where we run through the altered inputs and obtain results in the `.csv` file. Ideally, `retina_results.csv` should be nicely filled up with data."
   ]
  },
  {
   "cell_type": "code",
   "execution_count": 118,
   "metadata": {},
   "outputs": [],
   "source": [
    "csv_filename = \"retina_results.csv\"\n",
    "\n",
    "with open(csv_filename, mode='w', newline='') as file:\n",
    "    writer = csv.writer(file)\n",
    "\n",
    "    # Write header only if file is empty\n",
    "    if file.tell() == 0:\n",
    "        writer.writerow([\"ON_RGC_linear\", \"OFF_RGC_linear\", \"ON_RGC_nonlinear\", \"OFF_RGC_nonlinear\"])\n",
    "\n",
    "    # Iterate over each input array and save results\n",
    "    for element in input_array:\n",
    "        results = retina(element)  # Get the tuple of 4 values\n",
    "        writer.writerow(results)  # Write the results to CSV"
   ]
  },
  {
   "cell_type": "markdown",
   "metadata": {},
   "source": [
    "With the new `.csv` file, we can plot a graph that takes in the index as the x-variable and the magical number as the y-variable. Honestly, I don't know what to expect - linear RGCs will respond linearly to linear changes in light, while nonlinear RGCs will respond nonlinearly to linear changes in light.\n",
    "\n",
    "Regardless, we will be using `matplotlib` for graphing and `numpy` and `pandas` for data manipulations."
   ]
  },
  {
   "cell_type": "code",
   "execution_count": 121,
   "metadata": {},
   "outputs": [
    {
     "name": "stderr",
     "output_type": "stream",
     "text": [
      "C:\\Users\\YF Wu\\AppData\\Local\\Temp\\ipykernel_18112\\2498224812.py:11: UserWarning: FigureCanvasAgg is non-interactive, and thus cannot be shown\n",
      "  fig.show()\n"
     ]
    },
    {
     "data": {
      "image/png": "[encoded data removed]",
      "text/plain": [
       "<Figure size 640x480 with 1 Axes>"
      ]
     },
     "metadata": {},
     "output_type": "display_data"
    }
   ],
   "source": [
    "import matplotlib.pyplot as plt\n",
    "import matplotlib.cbook as cbook\n",
    "import numpy as np\n",
    "import pandas as pd\n",
    "\n",
    "df = pd.read_csv(\"retina_results.csv\")\n",
    "\n",
    "fig, ax = plt.subplots()\n",
    "ax.plot(df[\"ON_RGC_linear\"])\n",
    "ax.plot(df[\"ON_RGC_nonlinear\"])\n",
    "fig.show()"
   ]
  },
  {
   "cell_type": "markdown",
   "metadata": {},
   "source": [
    "We can simply flip our inputs such that we start from surround response and turn off each rod during each iteration. Quite predictably, it will have vertical symmetry with the graph above, that is, flipped along the x-axis.\n",
    "\n",
    "With the model working hopefully as intended, we can bring this to the webpage."
   ]
  },
  {
   "cell_type": "markdown",
   "metadata": {},
   "source": [
    "## Debugging\n",
    "\n",
    "So, after finishing this, there are some debugging since I decided to change some parameters, and that led to some issues. I fixed the issues at the JavaScript end, but because this page is used as a place to play around and document my thought process, the code in this file is not fixed regularly.\n",
    "\n",
    "The plan is to change the `retina` function so that it reflects the updated JavaScript code. However, the thought processes will not be updated accordingly."
   ]
  }
 ],
 "metadata": {
  "kernelspec": {
   "display_name": "dighum",
   "language": "python",
   "name": "python3"
  },
  "language_info": {
   "codemirror_mode": {
    "name": "ipython",
    "version": 3
   },
   "file_extension": ".py",
   "mimetype": "text/x-python",
   "name": "python",
   "nbconvert_exporter": "python",
   "pygments_lexer": "ipython3",
   "version": "3.10.14"
  }
 },
 "nbformat": 4,
 "nbformat_minor": 2
}
